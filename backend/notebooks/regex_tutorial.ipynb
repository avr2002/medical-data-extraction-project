{
 "cells": [
  {
   "cell_type": "code",
   "execution_count": 1,
   "id": "64335fc4-c80e-43d7-bbc5-6409b029c6fe",
   "metadata": {},
   "outputs": [],
   "source": [
    "import re"
   ]
  },
  {
   "cell_type": "code",
   "execution_count": 3,
   "id": "c2ee7af9-31bf-4fd8-ae64-5b54700cfdb0",
   "metadata": {},
   "outputs": [
    {
     "data": {
      "text/plain": [
       "['7321119999', '120']"
      ]
     },
     "execution_count": 3,
     "metadata": {},
     "output_type": "execute_result"
    }
   ],
   "source": [
    "# Extract all numbers\n",
    "\n",
    "text = \"Patient's phone is 7321119999. Bill amount is 120 $\"\n",
    "\n",
    "pattern = '\\d+'\n",
    "\n",
    "match = re.findall(pattern,text)\n",
    "match"
   ]
  },
  {
   "cell_type": "code",
   "execution_count": 4,
   "id": "e4e7b09c-6050-4e3d-b1c0-ea12fdf6c7fa",
   "metadata": {},
   "outputs": [
    {
     "data": {
      "text/plain": [
       "['7321119999']"
      ]
     },
     "execution_count": 4,
     "metadata": {},
     "output_type": "execute_result"
    }
   ],
   "source": [
    "# Extract phone numbers\n",
    "\n",
    "pattern = '\\d{10}'\n",
    "re.findall(pattern, text)"
   ]
  },
  {
   "cell_type": "code",
   "execution_count": 5,
   "id": "8e1a7f58-0f6f-4274-ad17-6968962a7a9e",
   "metadata": {},
   "outputs": [
    {
     "data": {
      "text/plain": [
       "['(732)-111-9999', '7326664444']"
      ]
     },
     "execution_count": 5,
     "metadata": {},
     "output_type": "execute_result"
    }
   ],
   "source": [
    "text = \"Patient's phone is (732)-111-9999, spouse phone number 7326664444. Bill amount is 120$\"\n",
    "\n",
    "pattern = '\\(\\d{3}\\)-\\d{3}-\\d{4}|\\d{10}'\n",
    "\n",
    "re.findall(pattern,text)"
   ]
  },
  {
   "cell_type": "code",
   "execution_count": 15,
   "id": "5fad8639-8a59-4374-9dc0-1629e6bab208",
   "metadata": {},
   "outputs": [],
   "source": [
    "# extract phone num and bill amt\n",
    "\n",
    "text = \"Patient's phone is 7321119999. Bill amount is 120$\"\n",
    "\n",
    "pattern = \"(\\d{10})\\D+(\\d+)\\$\"\n",
    "\n",
    "match = re.search(pattern,text)"
   ]
  },
  {
   "cell_type": "code",
   "execution_count": 17,
   "id": "c0d78d32-5e67-4d32-86ce-6b4751a99638",
   "metadata": {},
   "outputs": [
    {
     "data": {
      "text/plain": [
       "('7321119999', '120')"
      ]
     },
     "execution_count": 17,
     "metadata": {},
     "output_type": "execute_result"
    }
   ],
   "source": [
    "ph_num, bill_amt = match.groups()\n",
    "ph_num, bill_amt"
   ]
  },
  {
   "cell_type": "code",
   "execution_count": 67,
   "id": "e47ad03a-7d64-4595-bad3-80226c32022f",
   "metadata": {},
   "outputs": [
    {
     "name": "stdout",
     "output_type": "stream",
     "text": [
      "['Marta Sharapova']\n",
      "['9 tennis court, new Russia, DC']\n"
     ]
    }
   ],
   "source": [
    "text = \\\n",
    "\"\"\"\n",
    "Dr John Smith, M.D\n",
    "2 Non-Important Street,\n",
    "New York, Phone (000)-111-2222\n",
    "\n",
    "Name: Marta Sharapova Date: 5/11/2022\n",
    "\n",
    "Address: 9 tennis court, new Russia, DC\n",
    "\n",
    "K\n",
    "\n",
    "Prednisone 20 mg\n",
    "Lialda 2.4 gram\n",
    "\n",
    "Directions:\n",
    "\n",
    "Prednisone, Taper 5 mg every 3 days,\n",
    "Finish in 2.5 weeks a\n",
    "Lialda - take 2 pill everyday for 1 month\n",
    "\n",
    "Refill: 2 times\n",
    "\"\"\"\n",
    "\n",
    "name_pattern = \"Name: (.*) Date:\" # . -> captures any single charecter, () -> finds only that within (...)\n",
    "\n",
    "address_pattern = \"Address: (.*)\\n\"\n",
    "\n",
    "print(re.findall(name_pattern,text))\n",
    "print(re.findall(address_pattern,text))"
   ]
  },
  {
   "cell_type": "code",
   "execution_count": 68,
   "id": "b8a626bb-fcab-47cb-a965-64712e0b253d",
   "metadata": {},
   "outputs": [
    {
     "name": "stdout",
     "output_type": "stream",
     "text": [
      "K\n",
      "\n",
      "Prednisone 20 mg\n",
      "Lialda 2.4 gram\n"
     ]
    }
   ],
   "source": [
    "medicines_pattern = \"Address:[^\\n]*(.*)Directions:\"\n",
    "match = re.findall(medicines_pattern,text, flags=re.DOTALL)\n",
    "print(match[0].strip())"
   ]
  },
  {
   "cell_type": "code",
   "execution_count": 71,
   "id": "9fa91381-a164-4b12-8a6c-245d4f04d634",
   "metadata": {},
   "outputs": [
    {
     "name": "stdout",
     "output_type": "stream",
     "text": [
      "Prednisone, Taper 5 mg every 3 days,\n",
      "Finish in 2.5 weeks a\n",
      "Lialda - take 2 pill everyday for 1 month\n"
     ]
    }
   ],
   "source": [
    "directions_pattern = \"Directions:[^\\n]*(.*)Refill:\"\n",
    "\n",
    "refill_pattern = \"Refill:(.*)times\"\n",
    "\n",
    "dir_match = re.findall(directions_pattern, text, flags=re.DOTALL)\n",
    "print(dir_match[0].strip())"
   ]
  },
  {
   "cell_type": "code",
   "execution_count": 72,
   "id": "5c2b1869-c20b-46f3-a002-609569a64e5e",
   "metadata": {},
   "outputs": [
    {
     "data": {
      "text/plain": [
       "'2'"
      ]
     },
     "execution_count": 72,
     "metadata": {},
     "output_type": "execute_result"
    }
   ],
   "source": [
    "refill_match = re.findall(refill_pattern,text)\n",
    "refill_match[0].strip()"
   ]
  },
  {
   "cell_type": "code",
   "execution_count": 87,
   "id": "0290feb1-0c9e-49e4-aac1-9b2f949d0d3d",
   "metadata": {},
   "outputs": [
    {
     "data": {
      "text/plain": [
       "['elonmusk', 'teslarati', 'dummy_tesla', 'dummy_2_tesla']"
      ]
     },
     "execution_count": 87,
     "metadata": {},
     "output_type": "execute_result"
    }
   ],
   "source": [
    "text = \\\n",
    "\"\"\"Follow our leader Elon musk on Twitter \n",
    "here: https://twitter.com/elonmusk, more information \n",
    "on Tesla's products can be found at https://www.tesla.com/. \n",
    "Also here are leading influencers for tesla-related news, \n",
    "https://twitter.com/teslarati\n",
    "https://twitter.com/dummy_tesla\n",
    "https://twitter.com/dummy_2_tesla\"\"\"\n",
    "\n",
    "twitter_handle = \"https://\\w*.com/(\\w*)\"  \n",
    "# \\w Matches any letter, digit or underscore. Equivalent to [a-zA-Z0-9_]\n",
    "\n",
    "# twitter_handle = \"https:\\/\\/twitter.com\\/([a-zA-Z0-9_]+)\"\n",
    "re.findall(twitter_handle,text,flags=re.DOTALL)"
   ]
  },
  {
   "cell_type": "code",
   "execution_count": 88,
   "id": "670ae727-06ac-463a-b2f2-a30b22174eba",
   "metadata": {},
   "outputs": [
    {
     "name": "stdout",
     "output_type": "stream",
     "text": [
      "300\n"
     ]
    }
   ],
   "source": [
    "print(sum([100, 101, 98, 0, 1]))"
   ]
  }
 ],
 "metadata": {
  "kernelspec": {
   "display_name": "Python 3 (ipykernel)",
   "language": "python",
   "name": "python3"
  },
  "language_info": {
   "codemirror_mode": {
    "name": "ipython",
    "version": 3
   },
   "file_extension": ".py",
   "mimetype": "text/x-python",
   "name": "python",
   "nbconvert_exporter": "python",
   "pygments_lexer": "ipython3",
   "version": "3.9.7"
  },
  "widgets": {
   "application/vnd.jupyter.widget-state+json": {
    "state": {},
    "version_major": 2,
    "version_minor": 0
   }
  }
 },
 "nbformat": 4,
 "nbformat_minor": 5
}
